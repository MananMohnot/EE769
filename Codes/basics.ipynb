{
 "cells": [
  {
   "cell_type": "code",
   "execution_count": 3,
   "metadata": {},
   "outputs": [
    {
     "name": "stdout",
     "output_type": "stream",
     "text": [
      "Area of Circle is 54.624\n"
     ]
    }
   ],
   "source": [
    "print(\"Area of Circle is \" + str(3.414*4*4))"
   ]
  },
  {
   "cell_type": "code",
   "execution_count": 5,
   "metadata": {},
   "outputs": [
    {
     "name": "stdout",
     "output_type": "stream",
     "text": [
      "Number not divisible\n"
     ]
    }
   ],
   "source": [
    "# constants are declared by capital letter eg. PI\n",
    "\n",
    "x = float(input(\"Enter a number, divisible by \"+str(7)+\":\" ))\n",
    "if round(x/7,0)==x/7:\n",
    "    print(\"Number is divisible\")\n",
    "else :\n",
    "    print(\"Number not divisible\")"
   ]
  },
  {
   "cell_type": "code",
   "execution_count": 6,
   "metadata": {},
   "outputs": [],
   "source": [
    "# try and except\n",
    "# try:\n",
    "\n",
    "# except ValueError: "
   ]
  },
  {
   "cell_type": "code",
   "execution_count": null,
   "metadata": {},
   "outputs": [],
   "source": []
  }
 ],
 "metadata": {
  "interpreter": {
   "hash": "07af223bcf004c6b95c5dfe0a928c3213aa5a8df4b8e24cc570efb8c927a71a2"
  },
  "kernelspec": {
   "display_name": "Python 3.9.7 64-bit",
   "language": "python",
   "name": "python3"
  },
  "language_info": {
   "codemirror_mode": {
    "name": "ipython",
    "version": 3
   },
   "file_extension": ".py",
   "mimetype": "text/x-python",
   "name": "python",
   "nbconvert_exporter": "python",
   "pygments_lexer": "ipython3",
   "version": "3.9.7"
  },
  "orig_nbformat": 4
 },
 "nbformat": 4,
 "nbformat_minor": 2
}
